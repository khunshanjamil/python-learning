{
 "cells": [
  {
   "cell_type": "code",
   "execution_count": 1,
   "id": "049bad59",
   "metadata": {},
   "outputs": [
    {
     "name": "stdout",
     "output_type": "stream",
     "text": [
      "Twinkle, twinkle, little star, \n",
      "\tHow I wonder what you are! \n",
      "\t\tUp above the world so high, \n",
      "\t\tLike a diamond in the sky. \n",
      "Twinkle, twinkle, little star, \n",
      "\tHow I wonder what you are!\n"
     ]
    }
   ],
   "source": [
    "print(\"Twinkle, twinkle, little star, \\n\\tHow I wonder what you are! \\n\\t\\tUp above the world so high, \\n\\t\\tLike a diamond in the sky. \\nTwinkle, twinkle, little star, \\n\\tHow I wonder what you are!\" )"
   ]
  },
  {
   "cell_type": "code",
   "execution_count": 2,
   "id": "f4681fe4",
   "metadata": {},
   "outputs": [
    {
     "name": "stdout",
     "output_type": "stream",
     "text": [
      "3.9.7 (default, Sep 16 2021, 16:59:28) [MSC v.1916 64 bit (AMD64)]\n"
     ]
    }
   ],
   "source": [
    "import sys\n",
    "print(sys.version)"
   ]
  },
  {
   "cell_type": "code",
   "execution_count": 3,
   "id": "a62abd42",
   "metadata": {},
   "outputs": [
    {
     "name": "stdout",
     "output_type": "stream",
     "text": [
      "current date and time :\n",
      "2021-12-31 01:11-00\n"
     ]
    }
   ],
   "source": [
    "import datetime\n",
    "now =datetime.datetime.now()\n",
    "print(\"current date and time :\")\n",
    "print(now.strftime(\"%Y-%m-%d %H:%M-%S\"))"
   ]
  },
  {
   "cell_type": "code",
   "execution_count": 4,
   "id": "cb2eaf7a",
   "metadata": {},
   "outputs": [
    {
     "name": "stdout",
     "output_type": "stream",
     "text": [
      "enter radiius of circle: 7.5\n",
      "area of circle= 176.625\n"
     ]
    }
   ],
   "source": [
    "r = float(input(\"enter radiius of circle: \"))\n",
    "a = 3.14 * r * r\n",
    "print(\"area of circle=\", a)"
   ]
  },
  {
   "cell_type": "code",
   "execution_count": 5,
   "id": "5bcf8b2d",
   "metadata": {},
   "outputs": [
    {
     "name": "stdout",
     "output_type": "stream",
     "text": [
      "Input your First Name : khunshan\n",
      "Input your Last Name : jamil\n",
      "jamil khunshan\n"
     ]
    }
   ],
   "source": [
    "fname = input(\"Input your First Name : \")\n",
    "lname = input(\"Input your Last Name : \")\n",
    "print (lname + \" \" + fname)\n"
   ]
  },
  {
   "cell_type": "code",
   "execution_count": 6,
   "id": "8e690797",
   "metadata": {},
   "outputs": [
    {
     "name": "stdout",
     "output_type": "stream",
     "text": [
      "sum = 7\n"
     ]
    }
   ],
   "source": [
    "a = 5\n",
    "b = 2\n",
    "c = a+b\n",
    "print(\"sum =\",c)"
   ]
  },
  {
   "cell_type": "code",
   "execution_count": null,
   "id": "f502ceb0",
   "metadata": {},
   "outputs": [],
   "source": []
  }
 ],
 "metadata": {
  "kernelspec": {
   "display_name": "Python 3 (ipykernel)",
   "language": "python",
   "name": "python3"
  },
  "language_info": {
   "codemirror_mode": {
    "name": "ipython",
    "version": 3
   },
   "file_extension": ".py",
   "mimetype": "text/x-python",
   "name": "python",
   "nbconvert_exporter": "python",
   "pygments_lexer": "ipython3",
   "version": "3.9.7"
  }
 },
 "nbformat": 4,
 "nbformat_minor": 5
}
